{
 "cells": [
  {
   "cell_type": "markdown",
   "metadata": {},
   "source": [
    "# TODO"
   ]
  },
  {
   "cell_type": "code",
   "execution_count": 1,
   "metadata": {},
   "outputs": [],
   "source": [
    "import bsoid_ipynb_header\n",
    "from bsoid.pipeline import *\n",
    "#\n",
    "from bhtsne import tsne as TSNE_bhtsne\n",
    "from sklearn import mixture\n",
    "from sklearn.manifold import TSNE as TSNE_sklearn\n",
    "from sklearn.metrics import plot_confusion_matrix\n",
    "from sklearn.model_selection import train_test_split, cross_val_score\n",
    "from sklearn.neural_network import MLPClassifier\n",
    "from sklearn.preprocessing import StandardScaler\n",
    "from sklearn.svm import SVC\n",
    "from typing import List\n",
    "import cv2\n",
    "import itertools\n",
    "import matplotlib.pyplot as plt\n",
    "import numpy as np\n",
    "import os\n",
    "import pandas as pd\n",
    "import seaborn as sns\n",
    "import time\n",
    "#\n",
    "import bsoid\n",
    "from bsoid import config"
   ]
  },
  {
   "cell_type": "code",
   "execution_count": 4,
   "metadata": {},
   "outputs": [],
   "source": [
    "in_memory_name = 'InMemoryName';\n",
    "pipeline_savefile_name = 'pipelineSaveName200'\n",
    "save_dir = 'C:\\\\Users\\\\killian\\\\Pictures'\n",
    "p_loc = \"C:\\\\Users\\\\killian\\\\Pictures\\\\prime11.pipeline\"\n",
    "test_file_1 = \"C:\\\\Users\\\\killian\\\\projects\\\\OST-with-DLC\\\\bsoid_train_videos\\\\Video1DLC_resnet50_EPM_DLC_BSOIDAug25shuffle1_495000.csv\"\n",
    "test_file_2 = \"C:\\\\Users\\\\killian\\\\projects\\\\OST-with-DLC\\\\bsoid_train_videos\\\\Video2DLC_resnet50_EPM_DLC_BSOIDAug25shuffle1_495000.csv\"\n",
    "test_file_3 = \"C:\\\\Users\\\\killian\\\\projects\\\\OST-with-DLC\\\\bsoid_test_videos\\\\Video3DLC_resnet50_EPM_DLC_BSOIDAug25shuffle1_495000.csv\"\n",
    "test_file_4 = \"C:\\\\Users\\\\killian\\\\projects\\\\OST-with-DLC\\\\bsoid_test_videos\\\\Video4DLC_resnet50_EPM_DLC_BSOIDAug25shuffle1_495000.csv\"\n",
    "ex_vid_1_path = f\"C:\\\\Users\\\\killian\\\\projects\\\\B-SOID\\\\examples\\\\group1_example_1.avi\"\n",
    "for _path in (test_file_1, test_file_2, test_file_3, test_file_4, ex_vid_1_path):\n",
    "    assert os.path.isfile(_path)"
   ]
  },
  {
   "cell_type": "code",
   "execution_count": null,
   "metadata": {},
   "outputs": [],
   "source": []
  },
  {
   "cell_type": "code",
   "execution_count": null,
   "metadata": {},
   "outputs": [],
   "source": []
  },
  {
   "cell_type": "code",
   "execution_count": 5,
   "metadata": {},
   "outputs": [
    {
     "name": "stderr",
     "output_type": "stream",
     "text": [
      "2020-10-14 17:14:39,720 - C:\\Users\\killian\\projects\\B-SOID\\bsoid\\pipeline.py - DEBUG    - Attempting to save pipeline to the following folder: C:\\Users\\killian\\Pictures.\n",
      "2020-10-14 17:14:39,721 - C:\\Users\\killian\\projects\\B-SOID\\bsoid\\pipeline.py - DEBUG    - Pipeline (pipelineSaveName200) saved to: C:\\Users\\killian\\Pictures\\pipelineSaveName200.pipeline\n"
     ]
    }
   ],
   "source": [
    "p = bsoid.pipeline.PipelinePrime(pipeline_savefile_name).save(save_dir)"
   ]
  },
  {
   "cell_type": "code",
   "execution_count": 6,
   "metadata": {
    "scrolled": false
   },
   "outputs": [
    {
     "name": "stderr",
     "output_type": "stream",
     "text": [
      "2020-10-14 17:14:51,214 - C:\\Users\\killian\\projects\\B-SOID\\bsoid\\pipeline.py - DEBUG    - Added file to predict data: C:\\Users\\killian\\projects\\OST-with-DLC\\bsoid_test_videos\\Video3DLC_resnet50_EPM_DLC_BSOIDAug25shuffle1_495000.csv\n",
      "2020-10-14 17:14:51,330 - C:\\Users\\killian\\projects\\B-SOID\\bsoid\\pipeline.py - DEBUG    - Added file to predict data: C:\\Users\\killian\\projects\\OST-with-DLC\\bsoid_test_videos\\Video4DLC_resnet50_EPM_DLC_BSOIDAug25shuffle1_495000.csv\n",
      "2020-10-14 17:14:51,331 - C:\\Users\\killian\\projects\\B-SOID\\bsoid\\pipeline.py - WARNING  - Trying to add in an invalid set of itemsm: ()\n",
      "2020-10-14 17:14:51,331 - C:\\Users\\killian\\projects\\B-SOID\\bsoid\\pipeline.py - DEBUG    - Attempting to save pipeline to the following folder: C:\\Users\\killian\\Pictures.\n",
      "2020-10-14 17:14:51,333 - C:\\Users\\killian\\projects\\B-SOID\\bsoid\\pipeline.py - DEBUG    - Pipeline (pipelineSaveName200) saved to: C:\\Users\\killian\\Pictures\\pipelineSaveName200.pipeline\n",
      "2020-10-14 17:14:51,333 - C:\\Users\\killian\\projects\\B-SOID\\bsoid\\pipeline.py - DEBUG    - Attempting to save pipeline to the following folder: C:\\Users\\killian\\Pictures.\n",
      "2020-10-14 17:14:51,334 - C:\\Users\\killian\\projects\\B-SOID\\bsoid\\pipeline.py - DEBUG    - Pipeline (pipelineSaveName200) saved to: C:\\Users\\killian\\Pictures\\pipelineSaveName200.pipeline\n"
     ]
    }
   ],
   "source": [
    "p = p.add_train_data_source(test_file_1, test_file_2).add_predict_data_source(test_file_3, test_file_4).save()\n",
    "p = p.save()"
   ]
  },
  {
   "cell_type": "code",
   "execution_count": null,
   "metadata": {},
   "outputs": [],
   "source": [
    "p._has_unengineered_predict_data"
   ]
  },
  {
   "cell_type": "code",
   "execution_count": 7,
   "metadata": {
    "scrolled": false
   },
   "outputs": [
    {
     "name": "stderr",
     "output_type": "stream",
     "text": [
      "2020-10-14 17:15:17,931 - C:\\Users\\killian\\projects\\B-SOID\\bsoid\\pipeline.py - DEBUG    - Now entering: PipelinePrime.build_and_predict().\n",
      "2020-10-14 17:15:17,931 - C:\\Users\\killian\\projects\\B-SOID\\bsoid\\pipeline.py - DEBUG    - Now entering: PipelinePrime.build().\n",
      "2020-10-14 17:15:17,932 - C:\\Users\\killian\\projects\\B-SOID\\bsoid\\pipeline.py - DEBUG    - Now entering: PipelinePrime.build_classifier().\n",
      "2020-10-14 17:15:18,064 - C:\\Users\\killian\\projects\\B-SOID\\bsoid\\pipeline.py - DEBUG    - build_classifier(): Start engineering features\n",
      "2020-10-14 17:15:18,065 - C:\\Users\\killian\\projects\\B-SOID\\bsoid\\pipeline.py - DEBUG    - Now entering: PipelinePrime.engineer_features_train().\n",
      "2020-10-14 17:15:18,089 - bsoid.feature_engineering           - DEBUG    - adaptively_filter_dlc_output(): Computing data threshold to forward fill any sub-threshold (x,y)...\n",
      "adaptively_filter_dlc_output(): Adaptively filtering DLC feature 0...: 100%|██████████| 6/6 [00:00<00:00, 11.52it/s]\n",
      "2020-10-14 17:15:18,647 - bsoid.feature_engineering           - DEBUG    - adaptively_filter_dlc_output(): Computing data threshold to forward fill any sub-threshold (x,y)...\n",
      "adaptively_filter_dlc_output(): Adaptively filtering DLC feature 0...: 100%|██████████| 6/6 [00:00<00:00, 11.42it/s]\n",
      "Engineer features...: 100%|██████████| 2/2 [00:39<00:00, 19.95s/it]\n",
      "Smoothing values over frames...: 2it [00:00,  8.43it/s]\n",
      "2020-10-14 17:15:59,345 - C:\\Users\\killian\\projects\\B-SOID\\bsoid\\pipeline.py - DEBUG    - Now exiting: PipelinePrime.engineer_features_train(). Time spent in function: 41.3 seconds\n",
      "C:\\Users\\killian\\projects\\B-SOID\\bsoid\\pipeline.py:709: SettingWithCopyWarning: \n",
      "A value is trying to be set on a copy of a slice from a DataFrame.\n",
      "Try using .loc[row_indexer,col_indexer] = value instead\n",
      "\n",
      "See the caveats in the documentation: https://pandas.pydata.org/pandas-docs/stable/user_guide/indexing.html#returning-a-view-versus-a-copy\n",
      "  df_shuffled[test_data_col_name] = False\n",
      "C:\\Users\\killian\\Anaconda3\\envs\\drf\\lib\\site-packages\\pandas\\core\\indexing.py:966: SettingWithCopyWarning: \n",
      "A value is trying to be set on a copy of a slice from a DataFrame.\n",
      "Try using .loc[row_indexer,col_indexer] = value instead\n",
      "\n",
      "See the caveats in the documentation: https://pandas.pydata.org/pandas-docs/stable/user_guide/indexing.html#returning-a-view-versus-a-copy\n",
      "  self.obj[item] = s\n",
      "2020-10-14 17:16:33,056 - C:\\Users\\killian\\projects\\B-SOID\\bsoid\\pipeline.py - DEBUG    - Now entering: BasePipeline.train_SVM().\n",
      "2020-10-14 17:16:34,579 - C:\\Users\\killian\\projects\\B-SOID\\bsoid\\pipeline.py - DEBUG    - Now exiting: BasePipeline.train_SVM(). Time spent in function: 1.5 seconds\n",
      "2020-10-14 17:16:59,947 - C:\\Users\\killian\\projects\\B-SOID\\bsoid\\pipeline.py - DEBUG    - Pipeline train accuracy: 1.0\n",
      "2020-10-14 17:16:59,947 - C:\\Users\\killian\\projects\\B-SOID\\bsoid\\pipeline.py - DEBUG    - All done with building classifiers!\n",
      "2020-10-14 17:16:59,948 - C:\\Users\\killian\\projects\\B-SOID\\bsoid\\pipeline.py - DEBUG    - Now exiting: PipelinePrime.build_classifier(). Time spent in function: 102.0 seconds\n",
      "2020-10-14 17:16:59,948 - C:\\Users\\killian\\projects\\B-SOID\\bsoid\\pipeline.py - DEBUG    - Now exiting: PipelinePrime.build(). Time spent in function: 102.0 seconds\n",
      "2020-10-14 17:16:59,948 - C:\\Users\\killian\\projects\\B-SOID\\bsoid\\pipeline.py - DEBUG    - Now entering: PipelinePrime.generate_predict_data_assignments().\n",
      "2020-10-14 17:16:59,949 - C:\\Users\\killian\\projects\\B-SOID\\bsoid\\pipeline.py - DEBUG    - Now entering: PipelinePrime.build_classifier().\n",
      "2020-10-14 17:16:59,962 - C:\\Users\\killian\\projects\\B-SOID\\bsoid\\pipeline.py - DEBUG    - build_classifier(): Start engineering features\n",
      "C:\\Users\\killian\\projects\\B-SOID\\bsoid\\pipeline.py:709: SettingWithCopyWarning: \n",
      "A value is trying to be set on a copy of a slice from a DataFrame.\n",
      "Try using .loc[row_indexer,col_indexer] = value instead\n",
      "\n",
      "See the caveats in the documentation: https://pandas.pydata.org/pandas-docs/stable/user_guide/indexing.html#returning-a-view-versus-a-copy\n",
      "  df_shuffled[test_data_col_name] = False\n",
      "C:\\Users\\killian\\Anaconda3\\envs\\drf\\lib\\site-packages\\pandas\\core\\indexing.py:966: SettingWithCopyWarning: \n",
      "A value is trying to be set on a copy of a slice from a DataFrame.\n",
      "Try using .loc[row_indexer,col_indexer] = value instead\n",
      "\n",
      "See the caveats in the documentation: https://pandas.pydata.org/pandas-docs/stable/user_guide/indexing.html#returning-a-view-versus-a-copy\n",
      "  self.obj[item] = s\n",
      "2020-10-14 17:17:33,600 - C:\\Users\\killian\\projects\\B-SOID\\bsoid\\pipeline.py - DEBUG    - Now entering: BasePipeline.train_SVM().\n",
      "2020-10-14 17:17:34,125 - C:\\Users\\killian\\projects\\B-SOID\\bsoid\\pipeline.py - DEBUG    - Now exiting: BasePipeline.train_SVM(). Time spent in function: 0.5 seconds\n",
      "2020-10-14 17:17:55,099 - C:\\Users\\killian\\projects\\B-SOID\\bsoid\\pipeline.py - DEBUG    - Pipeline train accuracy: 1.0\n",
      "2020-10-14 17:17:55,100 - C:\\Users\\killian\\projects\\B-SOID\\bsoid\\pipeline.py - DEBUG    - All done with building classifiers!\n",
      "2020-10-14 17:17:55,100 - C:\\Users\\killian\\projects\\B-SOID\\bsoid\\pipeline.py - DEBUG    - Now exiting: PipelinePrime.build_classifier(). Time spent in function: 55.2 seconds\n",
      "2020-10-14 17:17:55,101 - C:\\Users\\killian\\projects\\B-SOID\\bsoid\\pipeline.py - DEBUG    - Now entering: PipelinePrime.engineer_features_predict().\n",
      "2020-10-14 17:17:55,122 - bsoid.feature_engineering           - DEBUG    - adaptively_filter_dlc_output(): Computing data threshold to forward fill any sub-threshold (x,y)...\n",
      "adaptively_filter_dlc_output(): Adaptively filtering DLC feature 0...: 100%|██████████| 6/6 [00:00<00:00, 11.20it/s]\n",
      "2020-10-14 17:17:55,695 - bsoid.feature_engineering           - DEBUG    - adaptively_filter_dlc_output(): Computing data threshold to forward fill any sub-threshold (x,y)...\n",
      "adaptively_filter_dlc_output(): Adaptively filtering DLC feature 0...: 100%|██████████| 6/6 [00:00<00:00, 11.44it/s]\n",
      "Engineer features...: 100%|██████████| 2/2 [00:40<00:00, 20.15s/it]\n",
      "Smoothing values over frames...: 2it [00:00,  8.29it/s]\n",
      "2020-10-14 17:18:36,776 - C:\\Users\\killian\\projects\\B-SOID\\bsoid\\pipeline.py - DEBUG    - Now exiting: PipelinePrime.engineer_features_predict(). Time spent in function: 41.7 seconds\n",
      "2020-10-14 17:18:37,264 - C:\\Users\\killian\\projects\\B-SOID\\bsoid\\pipeline.py - DEBUG    - Now exiting: PipelinePrime.generate_predict_data_assignments(). Time spent in function: 97.3 seconds\n",
      "2020-10-14 17:18:37,265 - C:\\Users\\killian\\projects\\B-SOID\\bsoid\\pipeline.py - DEBUG    - Now exiting: PipelinePrime.build_and_predict(). Time spent in function: 199.3 seconds\n",
      "2020-10-14 17:18:37,265 - C:\\Users\\killian\\projects\\B-SOID\\bsoid\\pipeline.py - DEBUG    - Attempting to save pipeline to the following folder: C:\\Users\\killian\\Pictures.\n",
      "2020-10-14 17:18:37,301 - C:\\Users\\killian\\projects\\B-SOID\\bsoid\\pipeline.py - DEBUG    - Pipeline (pipelineSaveName200) saved to: C:\\Users\\killian\\Pictures\\pipelineSaveName200.pipeline\n"
     ]
    }
   ],
   "source": [
    "p = p.build_and_predict().save()"
   ]
  },
  {
   "cell_type": "code",
   "execution_count": 8,
   "metadata": {},
   "outputs": [
    {
     "data": {
      "image/png": "[encoded data removed]",
      "text/plain": [
       "<Figure size 432x288 with 1 Axes>"
      ]
     },
     "metadata": {
      "needs_background": "light"
     },
     "output_type": "display_data"
    }
   ],
   "source": [
    "fig, ax = bsoid.visuals.plot_assignment_distribution_histogram(p.df_features_train_scaled[p.svm_assignment_col_name])\n",
    "plt.show()"
   ]
  },
  {
   "cell_type": "code",
   "execution_count": 9,
   "metadata": {},
   "outputs": [
    {
     "data": {
      "text/plain": [
       "array([0, 1, 2, 3, 4, 5, 6, 8, 9], dtype=int64)"
      ]
     },
     "execution_count": 9,
     "metadata": {},
     "output_type": "execute_result"
    }
   ],
   "source": [
    "np.unique(p.df_features_predict_scaled[p.svm_assignment_col_name].values)"
   ]
  },
  {
   "cell_type": "code",
   "execution_count": null,
   "metadata": {},
   "outputs": [],
   "source": []
  },
  {
   "cell_type": "code",
   "execution_count": null,
   "metadata": {},
   "outputs": [],
   "source": []
  },
  {
   "cell_type": "code",
   "execution_count": null,
   "metadata": {},
   "outputs": [],
   "source": []
  },
  {
   "cell_type": "code",
   "execution_count": null,
   "metadata": {},
   "outputs": [],
   "source": []
  },
  {
   "cell_type": "code",
   "execution_count": null,
   "metadata": {},
   "outputs": [],
   "source": []
  },
  {
   "cell_type": "code",
   "execution_count": null,
   "metadata": {},
   "outputs": [],
   "source": []
  },
  {
   "cell_type": "code",
   "execution_count": null,
   "metadata": {},
   "outputs": [],
   "source": []
  },
  {
   "cell_type": "code",
   "execution_count": null,
   "metadata": {},
   "outputs": [],
   "source": []
  },
  {
   "cell_type": "code",
   "execution_count": null,
   "metadata": {},
   "outputs": [],
   "source": []
  },
  {
   "cell_type": "code",
   "execution_count": null,
   "metadata": {},
   "outputs": [],
   "source": [
    "p.df_features_train_scaled.head()"
   ]
  },
  {
   "cell_type": "code",
   "execution_count": null,
   "metadata": {},
   "outputs": [],
   "source": [
    "p.df_features_train_scaled.svm_assignment.dtype"
   ]
  },
  {
   "cell_type": "code",
   "execution_count": null,
   "metadata": {},
   "outputs": [],
   "source": [
    "# p.df_features_predict_scaled.head()"
   ]
  },
  {
   "cell_type": "code",
   "execution_count": null,
   "metadata": {},
   "outputs": [],
   "source": [
    "\n",
    "# p = bsoid.io.read_pipeline(p_loc)\n",
    "# p = bsoid.pipeline.PipelinePrime(pipeline_savefile_name).add_train_data_source(test_file_1).add_predict_data_source(test_file_3).save()"
   ]
  },
  {
   "cell_type": "code",
   "execution_count": null,
   "metadata": {},
   "outputs": [],
   "source": []
  },
  {
   "cell_type": "code",
   "execution_count": null,
   "metadata": {},
   "outputs": [],
   "source": []
  },
  {
   "cell_type": "code",
   "execution_count": null,
   "metadata": {},
   "outputs": [],
   "source": []
  },
  {
   "cell_type": "code",
   "execution_count": null,
   "metadata": {},
   "outputs": [],
   "source": []
  },
  {
   "cell_type": "code",
   "execution_count": null,
   "metadata": {},
   "outputs": [],
   "source": [
    "raise Exception()"
   ]
  },
  {
   "cell_type": "code",
   "execution_count": null,
   "metadata": {},
   "outputs": [],
   "source": []
  }
 ],
 "metadata": {
  "kernelspec": {
   "display_name": "Python 3",
   "language": "python",
   "name": "python3"
  },
  "language_info": {
   "codemirror_mode": {
    "name": "ipython",
    "version": 3
   },
   "file_extension": ".py",
   "mimetype": "text/x-python",
   "name": "python",
   "nbconvert_exporter": "python",
   "pygments_lexer": "ipython3",
   "version": "3.7.4"
  }
 },
 "nbformat": 4,
 "nbformat_minor": 4
}
