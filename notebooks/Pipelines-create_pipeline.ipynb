{
 "cells": [
  {
   "cell_type": "markdown",
   "metadata": {},
   "source": [
    "For Devs\n",
    "\n",
    "Easy making of pipelines while Streamlit is being developed."
   ]
  },
  {
   "cell_type": "code",
   "execution_count": null,
   "metadata": {
    "scrolled": true
   },
   "outputs": [],
   "source": [
    "import bsoid_ipynb_header  # Ensures that the bsoid module can found no matter what computer you use. Not necessary anywhere else.\n",
    "import os\n",
    "import sys\n",
    "import time\n",
    "import bsoid"
   ]
  },
  {
   "cell_type": "markdown",
   "metadata": {},
   "source": [
    "### Instantiating data file paths\n",
    "\n",
    "Note: this file will throw an error before continuing if proper data file paths are not specified.\n",
    "The error will not ruin the runtime sequence, but ensure the cell below runs OK before proceeding."
   ]
  },
  {
   "cell_type": "code",
   "execution_count": null,
   "metadata": {},
   "outputs": [],
   "source": [
    "# Name your pipeline. Add a description if you want.\n",
    "pipeline_name = 'MyFirstPipeline'\n",
    "description = f'{pipeline_name} -- description goes here.'\n",
    "\n",
    "# Data \n",
    "pipeline_save_directory = os.path.join(bsoid.config.BSOID_BASE_PROJECT_PATH, 'output')\n",
    "data_file_1 = os.path.join(bsoid.config.BSOID_BASE_PROJECT_PATH, 'example_data', \"Video1DLC_resnet50_EPM_DLC_BSOIDAug25shuffle1_495000.csv\")\n",
    "data_file_2 = os.path.join(bsoid.config.BSOID_BASE_PROJECT_PATH, 'example_data', \"Video2DLC_resnet50_EPM_DLC_BSOIDAug25shuffle1_495000.csv\")\n",
    "data_file_3 = os.path.join(bsoid.config.BSOID_BASE_PROJECT_PATH, 'example_data', \"Video3DLC_resnet50_EPM_DLC_BSOIDAug25shuffle1_495000.csv\")\n",
    "data_file_4 = os.path.join(bsoid.config.BSOID_BASE_PROJECT_PATH, 'example_data', \"Video4DLC_resnet50_EPM_DLC_BSOIDAug25shuffle1_495000.csv\")\n",
    "# Ensure data exists\n",
    "for a_file_path in (data_file_1, data_file_2, data_file_3, data_file_4):\n",
    "    if not os.path.isfile(a_file_path): raise ValueError(f\"'{a_file_path}' should be a data file for pipeline use but was found to be invalid\")\n",
    "for a_folder_path in (pipeline_save_directory, ):\n",
    "    if not os.path.isdir(a_folder_path): raise ValueError(f\"'{a_folder_path}' should be a folder but was found to be invalid\")\n",
    "print(f'Your pipeline will be saved here: {pipeline_save_directory}')"
   ]
  },
  {
   "cell_type": "markdown",
   "metadata": {},
   "source": [
    "If the above cell runs without output/errors, you're good to go!"
   ]
  },
  {
   "cell_type": "code",
   "execution_count": null,
   "metadata": {},
   "outputs": [],
   "source": [
    "# show unused data?"
   ]
  },
  {
   "cell_type": "markdown",
   "metadata": {},
   "source": [
    "### Let's add some training data which we will use to train our model\n"
   ]
  },
  {
   "cell_type": "code",
   "execution_count": null,
   "metadata": {},
   "outputs": [],
   "source": [
    "p = bsoid.pipeline.PipelinePrime(pipeline_name).set_description(description).save()"
   ]
  },
  {
   "cell_type": "code",
   "execution_count": null,
   "metadata": {
    "scrolled": true
   },
   "outputs": [],
   "source": [
    "p = p.add_train_data_source(data_file_1).add_predict_data_source(data_file_2).save()\n",
    "# p = p.add_train_data_source(data_file_1, data_file_2, data_file_3).add_predict_data_source(data_file_4).save()\n",
    "print(f'Initial pipeline saved at time: {time.strftime(\"%Y-%m-%d_%HH%MM%SS\")}')"
   ]
  },
  {
   "cell_type": "code",
   "execution_count": null,
   "metadata": {},
   "outputs": [],
   "source": [
    "time.strftime(\"%Y-%m-%d_%HH%MM%SS\")"
   ]
  },
  {
   "cell_type": "code",
   "execution_count": null,
   "metadata": {},
   "outputs": [],
   "source": [
    "# Now let's build our model using our added training data\n",
    "p = p.build(True, True)\n",
    "p = p.save()\n",
    "print(f'Pipeline built at time: {time.strftime(\"%Y-%m-%d_%HH%MM%SS\")}')"
   ]
  },
  {
   "cell_type": "code",
   "execution_count": null,
   "metadata": {},
   "outputs": [],
   "source": []
  }
 ],
 "metadata": {
  "kernelspec": {
   "display_name": "Python 3",
   "language": "python",
   "name": "python3"
  },
  "language_info": {
   "codemirror_mode": {
    "name": "ipython",
    "version": 3
   },
   "file_extension": ".py",
   "mimetype": "text/x-python",
   "name": "python",
   "nbconvert_exporter": "python",
   "pygments_lexer": "ipython3",
   "version": "3.7.9"
  }
 },
 "nbformat": 4,
 "nbformat_minor": 4
}
