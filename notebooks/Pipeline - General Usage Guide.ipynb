{
 "cells": [
  {
   "cell_type": "markdown",
   "metadata": {},
   "source": [
    "# Learning to use B-SOiD Pipelines\n",
    "\n",
    "### Here is a living guide on how to use piplines in BSOiD. It will always be updated to reflect current usage.\n",
    "\n",
    "### \"Pipelines\" are the base objects that contain the models and data which use the BSOiD process. Below, we will enumerate how to use, save, and load pipelines (and more!)"
   ]
  },
  {
   "cell_type": "markdown",
   "metadata": {},
   "source": [
    "---\n",
    "## Preparation\n",
    "\n",
    "### Importing necessary modules"
   ]
  },
  {
   "cell_type": "code",
   "execution_count": null,
   "metadata": {},
   "outputs": [],
   "source": [
    "import os\n",
    "import bsoid_ipynb_header  # Ensures that the bsoid module can found no matter what computer you use. Not necessary anywhere else.\n",
    "import bsoid"
   ]
  },
  {
   "cell_type": "markdown",
   "metadata": {},
   "source": [
    "### Instantiating data file paths\n",
    "\n",
    "Note: this file will throw an error before continuing if proper data file paths are not specified.\n",
    "The error will not ruin the runtime sequence, but ensure the cell below runs OK before proceeding."
   ]
  },
  {
   "cell_type": "code",
   "execution_count": null,
   "metadata": {},
   "outputs": [],
   "source": [
    "# The name of the pipeline helps distinguish your project,\n",
    "#   and will be name of the save file when saving your work.\n",
    "pipeline_name = 'MyFirstPipeline'\n",
    "# You can specify the output directory or, if left unspecified, it will default to the BSOiD project directory's \"output\" dir\n",
    "pipeline_save_directory = ''\n",
    "\n",
    "train_data_file = \"C:\\\\Users\\\\killian\\\\projects\\\\OST-with-DLC\\\\bsoid_train_videos\\\\Video1DLC_resnet50_EPM_DLC_BSOIDAug25shuffle1_495000.csv\"\n",
    "predict_data_file = \"C:\\\\Users\\\\killian\\\\projects\\\\OST-with-DLC\\\\bsoid_train_videos\\\\Video2DLC_resnet50_EPM_DLC_BSOIDAug25shuffle1_495000.csv\"\n",
    "ex_vid_1_path = f\"C:\\\\Users\\\\killian\\\\projects\\\\B-SOID\\\\examples\\\\group1_example_1.avi\"\n",
    "for a_file_path in (train_data_file, predict_data_file,):\n",
    "    if not os.path.isfile(a_file_path): raise ValueError(f\"'{a_file_path}' should be a file for pipeline use but was found to be invalid\")\n",
    "for a_folder_path in (pipeline_save_directory, ):\n",
    "    if not os.path.isdir(a_folder_path): raise ValueError(f\"'{a_folder_path}' should be a folder but was found to be invalid\")"
   ]
  },
  {
   "cell_type": "markdown",
   "metadata": {},
   "source": [
    "If the above cell runs without output/errors, you're good to go!"
   ]
  },
  {
   "cell_type": "markdown",
   "metadata": {},
   "source": [
    "---\n",
    "\n",
    "### Now let's dive in and create a project with a new pipeline\n",
    "\n",
    "Note: The only required argument for instantiating a pipeline is a name. The pipeline name is the name used for saving to file."
   ]
  },
  {
   "cell_type": "code",
   "execution_count": null,
   "metadata": {},
   "outputs": [],
   "source": [
    "p = bsoid.pipeline.PipelinePrime(pipeline_name)  # It's that easy!"
   ]
  },
  {
   "cell_type": "code",
   "execution_count": null,
   "metadata": {},
   "outputs": [],
   "source": [
    "# show unused data?"
   ]
  },
  {
   "cell_type": "markdown",
   "metadata": {},
   "source": [
    "### Let's add some training data which we will use to train our model\n"
   ]
  },
  {
   "cell_type": "code",
   "execution_count": null,
   "metadata": {},
   "outputs": [],
   "source": [
    "p = p.add_train_data_source(train_data_file)"
   ]
  },
  {
   "cell_type": "code",
   "execution_count": null,
   "metadata": {},
   "outputs": [],
   "source": [
    "# Before we build our model, we can check to see if the pipeline has any added\n",
    "#   training data\n",
    "# TODO"
   ]
  },
  {
   "cell_type": "code",
   "execution_count": null,
   "metadata": {},
   "outputs": [],
   "source": [
    "# Now let's build our model using our added training data\n",
    "p = p.build()"
   ]
  },
  {
   "cell_type": "code",
   "execution_count": null,
   "metadata": {},
   "outputs": [],
   "source": [
    "### Saving your work"
   ]
  },
  {
   "cell_type": "code",
   "execution_count": null,
   "metadata": {},
   "outputs": [],
   "source": [
    "# Since the model training can sometimes take a long to process, there is also an option to \n",
    "#   save your work to file and reuse later for analysis\n",
    "p.save?"
   ]
  },
  {
   "cell_type": "code",
   "execution_count": null,
   "metadata": {},
   "outputs": [],
   "source": [
    "p.save(pipeline_save_directory)"
   ]
  },
  {
   "cell_type": "code",
   "execution_count": null,
   "metadata": {},
   "outputs": [],
   "source": []
  },
  {
   "cell_type": "code",
   "execution_count": null,
   "metadata": {},
   "outputs": [],
   "source": [
    ".add_predict_data_source(test_file_3, test_file_4).save()\n",
    "p = p.save()"
   ]
  },
  {
   "cell_type": "code",
   "execution_count": null,
   "metadata": {},
   "outputs": [],
   "source": []
  },
  {
   "cell_type": "code",
   "execution_count": null,
   "metadata": {},
   "outputs": [],
   "source": [
    "p = p.build_and_predict().save()"
   ]
  },
  {
   "cell_type": "code",
   "execution_count": null,
   "metadata": {},
   "outputs": [],
   "source": []
  },
  {
   "cell_type": "code",
   "execution_count": null,
   "metadata": {},
   "outputs": [],
   "source": []
  }
 ],
 "metadata": {
  "kernelspec": {
   "display_name": "Python 3",
   "language": "python",
   "name": "python3"
  },
  "language_info": {
   "codemirror_mode": {
    "name": "ipython",
    "version": 3
   },
   "file_extension": ".py",
   "mimetype": "text/x-python",
   "name": "python",
   "nbconvert_exporter": "python",
   "pygments_lexer": "ipython3",
   "version": "3.7.4"
  }
 },
 "nbformat": 4,
 "nbformat_minor": 4
}
